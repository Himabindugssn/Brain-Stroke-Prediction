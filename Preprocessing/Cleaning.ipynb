{
  "nbformat": 4,
  "nbformat_minor": 0,
  "metadata": {
    "kernelspec": {
      "display_name": "Python 3",
      "language": "python",
      "name": "python3"
    },
    "language_info": {
      "codemirror_mode": {
        "name": "ipython",
        "version": 3
      },
      "file_extension": ".py",
      "mimetype": "text/x-python",
      "name": "python",
      "nbconvert_exporter": "python",
      "pygments_lexer": "ipython3",
      "version": "3.6.9"
    },
    "colab": {
      "name": "Cleaning.ipynb",
      "provenance": []
    }
  },
  "cells": [
    {
      "cell_type": "markdown",
      "metadata": {
        "id": "o2I8vO3V5O04"
      },
      "source": [
        "## Exploring the data"
      ]
    },
    {
      "cell_type": "code",
      "metadata": {
        "id": "4v0M30J55O04"
      },
      "source": [
        "import pandas as pd\n",
        "import numpy as np"
      ],
      "execution_count": null,
      "outputs": []
    },
    {
      "cell_type": "markdown",
      "metadata": {
        "id": "7rH1Cx275O04"
      },
      "source": [
        "#### Importing the data`"
      ]
    },
    {
      "cell_type": "code",
      "metadata": {
        "id": "SuQF3OlV5O04"
      },
      "source": [
        "data = pd.read_csv(\"Main Data/datacopy.csv\")"
      ],
      "execution_count": null,
      "outputs": []
    },
    {
      "cell_type": "markdown",
      "metadata": {
        "id": "pXUh69y45O05"
      },
      "source": [
        "#### Exploring the data"
      ]
    },
    {
      "cell_type": "code",
      "metadata": {
        "id": "1kHJLYp55O05"
      },
      "source": [
        "print(\"total number of rows : \", len(data))"
      ],
      "execution_count": null,
      "outputs": []
    },
    {
      "cell_type": "code",
      "metadata": {
        "id": "YaCn01UC5O05"
      },
      "source": [
        "data.info()"
      ],
      "execution_count": null,
      "outputs": []
    },
    {
      "cell_type": "code",
      "metadata": {
        "id": "xR4Gsqg25O06"
      },
      "source": [
        "data= data.iloc[0: ,0: 48]"
      ],
      "execution_count": null,
      "outputs": []
    },
    {
      "cell_type": "code",
      "metadata": {
        "id": "O9PpjoL65O06"
      },
      "source": [
        "data.info()"
      ],
      "execution_count": null,
      "outputs": []
    },
    {
      "cell_type": "code",
      "metadata": {
        "id": "S6HPo8725O06"
      },
      "source": [
        "all_cols = pd.DataFrame(pd.Series(data.columns))\n",
        "all_cols"
      ],
      "execution_count": null,
      "outputs": []
    },
    {
      "cell_type": "markdown",
      "metadata": {
        "id": "A33Q-9Q85O06"
      },
      "source": [
        "#### Selecting Columns "
      ]
    },
    {
      "cell_type": "code",
      "metadata": {
        "id": "yCvmhJid5O06"
      },
      "source": [
        "s_cols = all_cols.loc[[4, 7, 10, 11, 14, 16, 19, 20, 21, 22, 24, 27, 28, 30, 31, 33, 34, 35, 38, 39, 46, 47]]\n",
        "s_cols # Selected Columns"
      ],
      "execution_count": null,
      "outputs": []
    },
    {
      "cell_type": "markdown",
      "metadata": {
        "id": "zoyJzivi5O06"
      },
      "source": [
        "#### Reducing the data to the selected columns"
      ]
    },
    {
      "cell_type": "code",
      "metadata": {
        "id": "2sFyP-he5O06"
      },
      "source": [
        "# Selected Data\n",
        "s_data = data.iloc[:, [4, 7, 10, 11, 14, 16, 19, 20, 21, 22, 24, 27, 28, 30, 31, 33, 34, 35, 38, 39, 46, 47]] # Selected the columns"
      ],
      "execution_count": null,
      "outputs": []
    },
    {
      "cell_type": "code",
      "metadata": {
        "id": "uGplUNRJ5O06"
      },
      "source": [
        "s_data.head()"
      ],
      "execution_count": null,
      "outputs": []
    },
    {
      "cell_type": "code",
      "metadata": {
        "id": "ZbjrZpNl5O07"
      },
      "source": [
        "s_data.columns"
      ],
      "execution_count": null,
      "outputs": []
    },
    {
      "cell_type": "markdown",
      "metadata": {
        "id": "pK3R8eRn5O07"
      },
      "source": [
        "#### Exploring the reduced data"
      ]
    },
    {
      "cell_type": "code",
      "metadata": {
        "id": "bd8-wb9F5O07"
      },
      "source": [
        "s_data.info()"
      ],
      "execution_count": null,
      "outputs": []
    },
    {
      "cell_type": "markdown",
      "metadata": {
        "id": "1VNcF7ac5O07"
      },
      "source": [
        "## Handling Missing Values"
      ]
    },
    {
      "cell_type": "code",
      "metadata": {
        "id": "xyI4-kYQ5O07"
      },
      "source": [
        "s_data.isnull().sum() # number of missing values in each column"
      ],
      "execution_count": null,
      "outputs": []
    },
    {
      "cell_type": "markdown",
      "metadata": {
        "id": "P6Q3RY8G5O07"
      },
      "source": [
        "#### Dropping those rows with all values missing"
      ]
    },
    {
      "cell_type": "code",
      "metadata": {
        "id": "T-jc1YaP5O07"
      },
      "source": [
        "s_data.dropna(how = 'all').shape"
      ],
      "execution_count": null,
      "outputs": []
    },
    {
      "cell_type": "markdown",
      "metadata": {
        "id": "I87UFKgr5O07"
      },
      "source": [
        "#### Handling Age"
      ]
    },
    {
      "cell_type": "code",
      "metadata": {
        "id": "OwOKya0R5O07"
      },
      "source": [
        "s_data[\"Age\"].isnull().sum() # Number of missing values in age"
      ],
      "execution_count": null,
      "outputs": []
    },
    {
      "cell_type": "code",
      "metadata": {
        "id": "7j3UUx3G5O07"
      },
      "source": [
        "s_data[s_data[\"Age\"].isnull()]"
      ],
      "execution_count": null,
      "outputs": []
    },
    {
      "cell_type": "code",
      "metadata": {
        "id": "ojVwwkFO5O07"
      },
      "source": [
        "s_data.dropna(axis = 0, subset = ['Age'], inplace = True) # dropping the rows with Age = NaN"
      ],
      "execution_count": null,
      "outputs": []
    },
    {
      "cell_type": "code",
      "metadata": {
        "id": "ZuHtJj3j5O07"
      },
      "source": [
        "s_data.isnull().sum() # Number of missing values in each case"
      ],
      "execution_count": null,
      "outputs": []
    },
    {
      "cell_type": "markdown",
      "metadata": {
        "id": "m_Diy5oW5O08"
      },
      "source": [
        "#### Handling Gender"
      ]
    },
    {
      "cell_type": "code",
      "metadata": {
        "id": "l3hzt5xQ5O08"
      },
      "source": [
        "s_data['Gender'].isnull().sum()"
      ],
      "execution_count": null,
      "outputs": []
    },
    {
      "cell_type": "code",
      "metadata": {
        "id": "qi5MOwO15O08"
      },
      "source": [
        "s_data[s_data['Gender'].isnull()].isnull().sum(axis = 0)"
      ],
      "execution_count": null,
      "outputs": []
    },
    {
      "cell_type": "code",
      "metadata": {
        "id": "qiC_Kbkf5O08"
      },
      "source": [
        "mode = s_data['Gender'].mode()[0] # mode returns a series"
      ],
      "execution_count": null,
      "outputs": []
    },
    {
      "cell_type": "code",
      "metadata": {
        "id": "SsjsHRKl5O08"
      },
      "source": [
        "# 1.0 is a male and it is the mode of Gender\n",
        "s_data['Gender'].replace(np.nan, mode, inplace = True)"
      ],
      "execution_count": null,
      "outputs": []
    },
    {
      "cell_type": "code",
      "metadata": {
        "id": "5MCdS40o5O08"
      },
      "source": [
        "s_data.isnull().sum()"
      ],
      "execution_count": null,
      "outputs": []
    },
    {
      "cell_type": "markdown",
      "metadata": {
        "id": "o_4yNHQ_5O08"
      },
      "source": [
        "#### Handling MRS"
      ]
    },
    {
      "cell_type": "code",
      "metadata": {
        "id": "_aIrGjrS5O08"
      },
      "source": [
        "s_data['MRS'].isnull().sum() # number of rows missing values in MRS"
      ],
      "execution_count": null,
      "outputs": []
    },
    {
      "cell_type": "code",
      "metadata": {
        "id": "OLkJEVyi5O08"
      },
      "source": [
        "s_data[s_data['MRS'].isnull()]"
      ],
      "execution_count": null,
      "outputs": []
    },
    {
      "cell_type": "code",
      "metadata": {
        "id": "637Xk3HR5O08"
      },
      "source": [
        "s_data[s_data['MRS'].isnull()].isnull().sum()"
      ],
      "execution_count": null,
      "outputs": []
    },
    {
      "cell_type": "code",
      "metadata": {
        "id": "bzWLtR3S5O08"
      },
      "source": [
        "s_data['MRS'].value_counts(dropna = False)"
      ],
      "execution_count": null,
      "outputs": []
    },
    {
      "cell_type": "code",
      "metadata": {
        "id": "mFeao73r5O08"
      },
      "source": [
        "mode = s_data['MRS'].mode()[0]"
      ],
      "execution_count": null,
      "outputs": []
    },
    {
      "cell_type": "code",
      "metadata": {
        "id": "DgboCNfj5O08"
      },
      "source": [
        "s_data['MRS'].replace(np.nan, mode, inplace = True)"
      ],
      "execution_count": null,
      "outputs": []
    },
    {
      "cell_type": "code",
      "metadata": {
        "id": "xnHHxNf55O09"
      },
      "source": [
        "s_data.isnull().sum()"
      ],
      "execution_count": null,
      "outputs": []
    },
    {
      "cell_type": "markdown",
      "metadata": {
        "id": "zCJ7xpYJ5O09"
      },
      "source": [
        "#### Handling CODE SMOKER 1 yes - 2 NO"
      ]
    },
    {
      "cell_type": "code",
      "metadata": {
        "id": "vlf09MCJ5O09"
      },
      "source": [
        "s_data['CODE SMOKER 1 yes - 2 NO'].isnull().sum()"
      ],
      "execution_count": null,
      "outputs": []
    },
    {
      "cell_type": "code",
      "metadata": {
        "id": "ZCw60G5-5O09"
      },
      "source": [
        "s_data[s_data['CODE SMOKER 1 yes - 2 NO'].isnull()]"
      ],
      "execution_count": null,
      "outputs": []
    },
    {
      "cell_type": "code",
      "metadata": {
        "id": "3XOE7waZ5O09"
      },
      "source": [
        "s_data[s_data['CODE SMOKER 1 yes - 2 NO'].isnull()].isnull().sum()"
      ],
      "execution_count": null,
      "outputs": []
    },
    {
      "cell_type": "code",
      "metadata": {
        "id": "kX1OsZbM5O09"
      },
      "source": [
        "mode = s_data['CODE SMOKER 1 yes - 2 NO'].mode()[0]"
      ],
      "execution_count": null,
      "outputs": []
    },
    {
      "cell_type": "code",
      "metadata": {
        "id": "veKbJ6oX5O09"
      },
      "source": [
        "s_data['CODE SMOKER 1 yes - 2 NO'].replace(np.nan, mode, inplace = True)"
      ],
      "execution_count": null,
      "outputs": []
    },
    {
      "cell_type": "code",
      "metadata": {
        "id": "I8unqYY35O09"
      },
      "source": [
        "s_data.isnull().sum()"
      ],
      "execution_count": null,
      "outputs": []
    },
    {
      "cell_type": "markdown",
      "metadata": {
        "id": "LAuvDsIf5O09"
      },
      "source": [
        "#### Resetting the indices after dropping the rows"
      ]
    },
    {
      "cell_type": "code",
      "metadata": {
        "id": "qTCo4JFb5O09"
      },
      "source": [
        "s_data.reset_index(drop = True, inplace = True)"
      ],
      "execution_count": null,
      "outputs": []
    },
    {
      "cell_type": "markdown",
      "metadata": {
        "id": "mhC8KYZA5O09"
      },
      "source": [
        "## Changing Datatypes"
      ]
    },
    {
      "cell_type": "code",
      "metadata": {
        "id": "23fIAIYL5O09"
      },
      "source": [
        "s_data.info()"
      ],
      "execution_count": null,
      "outputs": []
    },
    {
      "cell_type": "code",
      "metadata": {
        "id": "pS_nInN-5O09"
      },
      "source": [
        "s_cols.reset_index()"
      ],
      "execution_count": null,
      "outputs": []
    },
    {
      "cell_type": "markdown",
      "metadata": {
        "id": "dyCLGifJ5O09"
      },
      "source": [
        "#### Changing the datatype of Age"
      ]
    },
    {
      "cell_type": "code",
      "metadata": {
        "id": "wFZK0S_55O09"
      },
      "source": [
        "s_data['Age'] = s_data['Age'].astype('int64')"
      ],
      "execution_count": null,
      "outputs": []
    },
    {
      "cell_type": "code",
      "metadata": {
        "id": "_mE4281k5O0-"
      },
      "source": [
        "s_data['Age'].dtype"
      ],
      "execution_count": null,
      "outputs": []
    },
    {
      "cell_type": "code",
      "metadata": {
        "id": "8NolqAbZ5O0-"
      },
      "source": [
        "s_data['Age']"
      ],
      "execution_count": null,
      "outputs": []
    },
    {
      "cell_type": "markdown",
      "metadata": {
        "id": "aX-pgQEL5O0-"
      },
      "source": [
        "#### Gender"
      ]
    },
    {
      "cell_type": "code",
      "metadata": {
        "id": "IQws5P0d5O0-"
      },
      "source": [
        "s_data[\"Gender\"].dtype"
      ],
      "execution_count": null,
      "outputs": []
    },
    {
      "cell_type": "code",
      "metadata": {
        "id": "lgHENBFZ5O0-"
      },
      "source": [
        "s_data['Gender'] = s_data[\"Gender\"].astype(\"int64\")"
      ],
      "execution_count": null,
      "outputs": []
    },
    {
      "cell_type": "code",
      "metadata": {
        "id": "ANasZqaZ5O0-"
      },
      "source": [
        "s_data_backup1 = s_data"
      ],
      "execution_count": null,
      "outputs": []
    },
    {
      "cell_type": "markdown",
      "metadata": {
        "id": "Alay8Lpl5O0-"
      },
      "source": [
        "#### Changing the datatype remaining columns"
      ]
    },
    {
      "cell_type": "code",
      "metadata": {
        "id": "i6-dT7aj5O0-"
      },
      "source": [
        "s_data.iloc[:, 2: 9] = s_data.iloc[:, 2: 9].astype('int64')"
      ],
      "execution_count": null,
      "outputs": []
    },
    {
      "cell_type": "code",
      "metadata": {
        "id": "5SNR11Sk5O0-"
      },
      "source": [
        "s_data.info()"
      ],
      "execution_count": null,
      "outputs": []
    },
    {
      "cell_type": "code",
      "metadata": {
        "id": "g2MnTdrV5O0-"
      },
      "source": [
        "s_data.iloc[:, 10: 12] = s_data.iloc[:, 10: 12].astype('int64')"
      ],
      "execution_count": null,
      "outputs": []
    },
    {
      "cell_type": "code",
      "metadata": {
        "id": "osREI5zn5O0-"
      },
      "source": [
        "s_data.iloc[:, 13: 16] = s_data.iloc[:, 13: 16].astype('int64')"
      ],
      "execution_count": null,
      "outputs": []
    },
    {
      "cell_type": "code",
      "metadata": {
        "id": "uRzyNbKC5O0-"
      },
      "source": [
        "s_data.iloc[:, 18] = s_data.iloc[:, 18].astype('int64')"
      ],
      "execution_count": null,
      "outputs": []
    },
    {
      "cell_type": "code",
      "metadata": {
        "id": "6TYbueKJ5O0-"
      },
      "source": [
        "s_data.iloc[:, 20: 22] = s_data.iloc[:, 20: 22].astype('int64')"
      ],
      "execution_count": null,
      "outputs": []
    },
    {
      "cell_type": "markdown",
      "metadata": {
        "id": "Kl2_rbn35O0-"
      },
      "source": [
        "## Dividing the Blood Pressure column into systolic blood pressure and diastolic blood pressure"
      ]
    },
    {
      "cell_type": "code",
      "metadata": {
        "id": "vO6KFFYl5O0-"
      },
      "source": [
        "ser = s_data['Blood Pressure at the time of admission']"
      ],
      "execution_count": null,
      "outputs": []
    },
    {
      "cell_type": "code",
      "metadata": {
        "id": "fC0gGxGc5O0-"
      },
      "source": [
        "systolic = []\n",
        "diastolic = []\n",
        "\n",
        "for i in range(len(ser)):\n",
        "    s, d = ser[i].split('/')\n",
        "    systolic.append(int(s))\n",
        "    diastolic.append(int(d))"
      ],
      "execution_count": null,
      "outputs": []
    },
    {
      "cell_type": "markdown",
      "metadata": {
        "id": "44KHiYsT5O0-"
      },
      "source": [
        "#### Inserting the columns Systolic BP and Diastolic BP"
      ]
    },
    {
      "cell_type": "code",
      "metadata": {
        "id": "AR8oObMF5O0-"
      },
      "source": [
        "s_data['Systolic BP'] = systolic"
      ],
      "execution_count": null,
      "outputs": []
    },
    {
      "cell_type": "code",
      "metadata": {
        "id": "QtWs3cAx5O0-"
      },
      "source": [
        "s_data['Diastolic BP'] = diastolic"
      ],
      "execution_count": null,
      "outputs": []
    },
    {
      "cell_type": "code",
      "metadata": {
        "id": "Jz8QLJ795O0-"
      },
      "source": [
        "s_data.info()"
      ],
      "execution_count": null,
      "outputs": []
    },
    {
      "cell_type": "markdown",
      "metadata": {
        "id": "5UJe2uaT5O0_"
      },
      "source": [
        "#### Removing the column Blood Pressure at the time of admission"
      ]
    },
    {
      "cell_type": "code",
      "metadata": {
        "id": "HZZjAo0Q5O0_"
      },
      "source": [
        "s_data.drop([\"Blood Pressure at the time of admission\"], axis = 1, inplace = True)"
      ],
      "execution_count": null,
      "outputs": []
    },
    {
      "cell_type": "markdown",
      "metadata": {
        "id": "nStumJd25O0_"
      },
      "source": [
        "## Cleaned data"
      ]
    },
    {
      "cell_type": "code",
      "metadata": {
        "id": "dS-tyUJv5O0_"
      },
      "source": [
        "s_data.info()"
      ],
      "execution_count": null,
      "outputs": []
    },
    {
      "cell_type": "markdown",
      "metadata": {
        "id": "bBdkD0rZ5O0_"
      },
      "source": [
        "#### Changing the order of columns"
      ]
    },
    {
      "cell_type": "code",
      "metadata": {
        "id": "HOP2PDGK5O0_"
      },
      "source": [
        "s_data.columns.tolist()"
      ],
      "execution_count": null,
      "outputs": []
    },
    {
      "cell_type": "code",
      "metadata": {
        "id": "XGUrYyRV5O0_"
      },
      "source": [
        "l = ['Age',\n",
        " 'Gender',\n",
        " 'Door to needle time (min )',\n",
        " 'Door-door time',\n",
        " 'CODE of Neurological Deficit ',\n",
        " 'CODING WINDOW ',\n",
        " 'MRS',\n",
        " 'Hyper tension 1-yes              2- No',\n",
        " 'DM',\n",
        " 'Blood Sugar at the time of admission ( mg/dl)',\n",
        " 'Systolic BP',\n",
        " 'Diastolic BP',\n",
        " 'CODE SMOKER 1 yes - 2 NO',\n",
        " 'History of Stroke-1 yes - 2 No',\n",
        " 'CODING ANT. POST. COMBINATION',\n",
        " 'LARGE Vs SMALL ARTERY',\n",
        " ' Dose of Actilyse/ Weight(mg)',\n",
        " 'HAGE',\n",
        " 'NIHSS on admission.1',\n",
        " 'NIHSS after 1 hr',\n",
        " '  NIHSS after 6 hrs',\n",
        " 'coding of Complications',\n",
        " 'Outcome']"
      ],
      "execution_count": null,
      "outputs": []
    },
    {
      "cell_type": "code",
      "metadata": {
        "id": "Mj90TvxM5O0_"
      },
      "source": [
        "s_data = s_data[l]"
      ],
      "execution_count": null,
      "outputs": []
    },
    {
      "cell_type": "code",
      "metadata": {
        "id": "Hbb4oYNd5O0_"
      },
      "source": [
        "s_data.info()"
      ],
      "execution_count": null,
      "outputs": []
    },
    {
      "cell_type": "markdown",
      "metadata": {
        "id": "-eRBTJR95O0_"
      },
      "source": [
        "#### Storing the cleaned data"
      ]
    },
    {
      "cell_type": "code",
      "metadata": {
        "id": "_v2MknRQ5O0_"
      },
      "source": [
        "s_data.to_excel(\"cleanData.xlsx\")"
      ],
      "execution_count": null,
      "outputs": []
    }
  ]
}