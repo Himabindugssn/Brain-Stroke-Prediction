{
  "nbformat": 4,
  "nbformat_minor": 0,
  "metadata": {
    "kernelspec": {
      "display_name": "Python 3",
      "language": "python",
      "name": "python3"
    },
    "language_info": {
      "codemirror_mode": {
        "name": "ipython",
        "version": 3
      },
      "file_extension": ".py",
      "mimetype": "text/x-python",
      "name": "python",
      "nbconvert_exporter": "python",
      "pygments_lexer": "ipython3",
      "version": "3.6.9"
    },
    "colab": {
      "name": "Feature Engineering.ipynb",
      "provenance": []
    }
  },
  "cells": [
    {
      "cell_type": "markdown",
      "metadata": {
        "id": "Qy0C6xlI9Eob"
      },
      "source": [
        "## Exploring the data"
      ]
    },
    {
      "cell_type": "code",
      "metadata": {
        "id": "QIQktYmA9Eob"
      },
      "source": [
        "import pandas as pd\n",
        "import numpy as np\n"
      ],
      "execution_count": null,
      "outputs": []
    },
    {
      "cell_type": "code",
      "metadata": {
        "id": "9cwsVHOx9lO8"
      },
      "source": [
        "from google.colab import files\n",
        "files.upload()"
      ],
      "execution_count": null,
      "outputs": []
    },
    {
      "cell_type": "code",
      "metadata": {
        "id": "xDJzt2oH9Eob"
      },
      "source": [
        "data.head()"
      ],
      "execution_count": null,
      "outputs": []
    },
    {
      "cell_type": "code",
      "metadata": {
        "id": "T4GIdhtX9Eoc"
      },
      "source": [
        "data.info()"
      ],
      "execution_count": null,
      "outputs": []
    },
    {
      "cell_type": "markdown",
      "metadata": {
        "id": "eQkftN1U9Eod"
      },
      "source": [
        "## Removing Large Vs Small Artery and Outcome Columns"
      ]
    },
    {
      "cell_type": "code",
      "metadata": {
        "id": "GOd2xr7B9Eod"
      },
      "source": [
        "data.drop([\"LARGE Vs SMALL ARTERY\", \"Outcome\"], axis = 1, inplace = True)"
      ],
      "execution_count": null,
      "outputs": []
    },
    {
      "cell_type": "code",
      "metadata": {
        "id": "b7RpppEq9Eod"
      },
      "source": [
        "data.info()"
      ],
      "execution_count": null,
      "outputs": []
    },
    {
      "cell_type": "markdown",
      "metadata": {
        "id": "q-LvE1eC9Eod"
      },
      "source": [
        "## Encoding"
      ]
    },
    {
      "cell_type": "code",
      "metadata": {
        "id": "mTkXNx-69Eod"
      },
      "source": [
        "Edata = data.copy()"
      ],
      "execution_count": null,
      "outputs": []
    },
    {
      "cell_type": "markdown",
      "metadata": {
        "id": "L70vUh669Eod"
      },
      "source": [
        "#### Gender"
      ]
    },
    {
      "cell_type": "code",
      "metadata": {
        "id": "uPCGak029Eod"
      },
      "source": [
        "# Converting Gender into binary 1 - male, 0 - female\n",
        "\n",
        "gender_dict = {1: 1, 2: 0}\n",
        "\n",
        "Edata['Gender'] = Edata['Gender'].map(gender_dict)\n",
        "Edata"
      ],
      "execution_count": null,
      "outputs": []
    },
    {
      "cell_type": "markdown",
      "metadata": {
        "id": "0nkZsIl59Eod"
      },
      "source": [
        "#### Neurological Deficit\n",
        "\n",
        "    Right Hemiperisis - 1\n",
        "    Left Hemiperisis - 2\n",
        "    Right Hemiperisis with Aphasia - 3\n",
        "    Hemiperisis With Altered Sensorium - 4\n",
        "    Posterior Circulation - 5\n",
        "    \n",
        "One Hot Encoding, Total Classes Created = 4"
      ]
    },
    {
      "cell_type": "code",
      "metadata": {
        "id": "CYwwPDG69Eod"
      },
      "source": [
        "Edata = pd.get_dummies(data, prefix = ['NeuroDeficit'], columns = ['CODE of Neurological Deficit '])"
      ],
      "execution_count": null,
      "outputs": []
    },
    {
      "cell_type": "code",
      "metadata": {
        "id": "O5ltwHnE9Eod"
      },
      "source": [
        "Edata.head()"
      ],
      "execution_count": null,
      "outputs": []
    },
    {
      "cell_type": "code",
      "metadata": {
        "id": "0iCI2Myg9Eod"
      },
      "source": [
        "# Removing NeuroDeficit_5 for N-1 One Hot Encoding\n",
        "Edata.drop(['NeuroDeficit_5'], axis = 1, inplace = True)"
      ],
      "execution_count": null,
      "outputs": []
    },
    {
      "cell_type": "code",
      "metadata": {
        "id": "pJh16DcF9Eod"
      },
      "source": [
        "Edata.head(1)"
      ],
      "execution_count": null,
      "outputs": []
    },
    {
      "cell_type": "markdown",
      "metadata": {
        "id": "NB_xhfQe9Eoe"
      },
      "source": [
        "#### Coding Window\n",
        "\n",
        "    Yes -> 1 -> 1\n",
        "    Extended -> 2 -> 0"
      ]
    },
    {
      "cell_type": "code",
      "metadata": {
        "id": "-Y5RNwPC9Eoe"
      },
      "source": [
        "Edata['CODING WINDOW '].unique()"
      ],
      "execution_count": null,
      "outputs": []
    },
    {
      "cell_type": "code",
      "metadata": {
        "id": "FljqxVKA9Eoe"
      },
      "source": [
        "window_dict = {1: 1, 2: 0}\n",
        "\n",
        "Edata['CODING WINDOW '] = Edata['CODING WINDOW '].map(window_dict)"
      ],
      "execution_count": null,
      "outputs": []
    },
    {
      "cell_type": "code",
      "metadata": {
        "id": "hOR3ug9U9Eoe"
      },
      "source": [
        "Edata['CODING WINDOW '].unique()"
      ],
      "execution_count": null,
      "outputs": []
    },
    {
      "cell_type": "markdown",
      "metadata": {
        "id": "UOLQJNEq9Eoe"
      },
      "source": [
        "#### Hyper tension 1-yes              2- No"
      ]
    },
    {
      "cell_type": "code",
      "metadata": {
        "id": "PlGOBRBG9Eoe"
      },
      "source": [
        "ht_dict = {1: 1, 2: 0}\n",
        "Edata['Hyper tension 1-yes              2- No'] = Edata['Hyper tension 1-yes              2- No'].map(ht_dict)"
      ],
      "execution_count": null,
      "outputs": []
    },
    {
      "cell_type": "markdown",
      "metadata": {
        "id": "4eetzIfu9Eoe"
      },
      "source": [
        "#### DM"
      ]
    },
    {
      "cell_type": "code",
      "metadata": {
        "id": "sc0s2g4C9Eoe"
      },
      "source": [
        "dm_dict = {1: 1, 2: 0}\n",
        "Edata['DM'] = Edata['DM'].map(dm_dict)"
      ],
      "execution_count": null,
      "outputs": []
    },
    {
      "cell_type": "markdown",
      "metadata": {
        "id": "QmHw9Mkq9Eoe"
      },
      "source": [
        "#### CODE SMOKER 1 yes - 2 NO"
      ]
    },
    {
      "cell_type": "code",
      "metadata": {
        "id": "pPSh-KXi9Eoe"
      },
      "source": [
        "dm_dict = {1: 1, 2: 0}\n",
        "Edata['CODE SMOKER 1 yes - 2 NO'] = Edata['CODE SMOKER 1 yes - 2 NO'].map(dm_dict)"
      ],
      "execution_count": null,
      "outputs": []
    },
    {
      "cell_type": "markdown",
      "metadata": {
        "id": "X0bHqDVt9Eoe"
      },
      "source": [
        "#### History of Stroke-1 yes - 2 No"
      ]
    },
    {
      "cell_type": "code",
      "metadata": {
        "id": "OS7MdgmR9Eoe"
      },
      "source": [
        "dm_dict = {1: 1, 2: 0}\n",
        "Edata['History of Stroke-1 yes - 2 No'] = Edata['History of Stroke-1 yes - 2 No'].map(dm_dict)"
      ],
      "execution_count": null,
      "outputs": []
    },
    {
      "cell_type": "markdown",
      "metadata": {
        "id": "F6or5yTy9Eoe"
      },
      "source": [
        "## Normalization of Metric Columns\n",
        "\n",
        "    Door to needle time (min )\n",
        "    Door-door time\n",
        "    Blood Sugar at the time of admission ( mg/dl)\n",
        "    Systolic BP\n",
        "    Diastolic BP\n",
        "     Dose of Actilyse/ Weight(mg)"
      ]
    },
    {
      "cell_type": "code",
      "metadata": {
        "id": "O1HGKm909Eoe"
      },
      "source": [
        "Edata['Door to needle time (min )'] = (Edata['Door to needle time (min )'] - Edata['Door to needle time (min )'].mean()) / Edata['Door to needle time (min )'].std()"
      ],
      "execution_count": null,
      "outputs": []
    },
    {
      "cell_type": "code",
      "metadata": {
        "id": "Ps52qAKo9Eoe"
      },
      "source": [
        "Edata['Door-door time'] = (Edata['Door-door time'] - Edata['Door-door time'].mean()) / Edata['Door-door time'].std()"
      ],
      "execution_count": null,
      "outputs": []
    },
    {
      "cell_type": "code",
      "metadata": {
        "id": "AcQyt6iW9Eoe"
      },
      "source": [
        "Edata['Blood Sugar at the time of admission ( mg/dl)'] = (Edata['Blood Sugar at the time of admission ( mg/dl)'] - Edata['Blood Sugar at the time of admission ( mg/dl)'].mean()) / Edata['Blood Sugar at the time of admission ( mg/dl)'].std()"
      ],
      "execution_count": null,
      "outputs": []
    },
    {
      "cell_type": "code",
      "metadata": {
        "id": "-uMk7Nyw9Eoe"
      },
      "source": [
        "Edata['Systolic BP'] = (Edata['Systolic BP'] - Edata['Systolic BP'].mean()) / Edata['Systolic BP'].std()"
      ],
      "execution_count": null,
      "outputs": []
    },
    {
      "cell_type": "code",
      "metadata": {
        "id": "E5nd3EUe9Eoe"
      },
      "source": [
        "Edata['Diastolic BP'] = (Edata['Diastolic BP'] - Edata['Diastolic BP'].mean()) / Edata['Diastolic BP'].std()"
      ],
      "execution_count": null,
      "outputs": []
    },
    {
      "cell_type": "code",
      "metadata": {
        "id": "6x6nu5Zi9Eoe"
      },
      "source": [
        "Edata[' Dose of Actilyse/ Weight(mg)'] = (Edata[' Dose of Actilyse/ Weight(mg)'] - Edata[' Dose of Actilyse/ Weight(mg)'].mean()) / Edata[' Dose of Actilyse/ Weight(mg)'].std()"
      ],
      "execution_count": null,
      "outputs": []
    },
    {
      "cell_type": "markdown",
      "metadata": {
        "id": "nqCNVLTY9Eoe"
      },
      "source": [
        "## Final Data"
      ]
    },
    {
      "cell_type": "code",
      "metadata": {
        "id": "3WT9qw1m9Eoe"
      },
      "source": [
        "Edata"
      ],
      "execution_count": null,
      "outputs": []
    },
    {
      "cell_type": "code",
      "metadata": {
        "id": "nOPhcMiP9Eoe"
      },
      "source": [
        "Edata.to_excel('eng_data.xlsx')"
      ],
      "execution_count": null,
      "outputs": []
    },
    {
      "cell_type": "code",
      "metadata": {
        "id": "woDac-189Eoe"
      },
      "source": [
        ""
      ],
      "execution_count": null,
      "outputs": []
    }
  ]
}