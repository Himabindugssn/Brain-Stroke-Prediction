{
  "nbformat": 4,
  "nbformat_minor": 0,
  "metadata": {
    "kernelspec": {
      "display_name": "Python 3",
      "language": "python",
      "name": "python3"
    },
    "language_info": {
      "codemirror_mode": {
        "name": "ipython",
        "version": 3
      },
      "file_extension": ".py",
      "mimetype": "text/x-python",
      "name": "python",
      "nbconvert_exporter": "python",
      "pygments_lexer": "ipython3",
      "version": "3.6.9"
    },
    "colab": {
      "name": "Predicting NIHSS after 1 hr.ipynb",
      "provenance": []
    }
  },
  "cells": [
    {
      "cell_type": "code",
      "metadata": {
        "id": "LfRVPSio9etT"
      },
      "source": [
        "import pandas as pd\n",
        "import numpy as np"
      ],
      "execution_count": null,
      "outputs": []
    },
    {
      "cell_type": "code",
      "metadata": {
        "id": "96qfvDUL9j3A"
      },
      "source": [
        "from google.colab import files\n",
        "files.upload()"
      ],
      "execution_count": null,
      "outputs": []
    },
    {
      "cell_type": "code",
      "metadata": {
        "id": "m9LxfMm79etT"
      },
      "source": [
        "data.head()"
      ],
      "execution_count": null,
      "outputs": []
    },
    {
      "cell_type": "code",
      "metadata": {
        "id": "fs0XIHAD9etU"
      },
      "source": [
        "data.info()"
      ],
      "execution_count": null,
      "outputs": []
    },
    {
      "cell_type": "markdown",
      "metadata": {
        "id": "2QmPcAKy9etV"
      },
      "source": [
        "## Exploratory Data Analysis"
      ]
    },
    {
      "cell_type": "code",
      "metadata": {
        "id": "NHpUs8ad9etV"
      },
      "source": [
        "import seaborn as sns"
      ],
      "execution_count": null,
      "outputs": []
    },
    {
      "cell_type": "code",
      "metadata": {
        "scrolled": true,
        "id": "UlpBPg9b9etV"
      },
      "source": [
        "sns.jointplot(x='NIHSS on admission.1',y='NIHSS after 1 hr',data=data,kind='reg')"
      ],
      "execution_count": null,
      "outputs": []
    },
    {
      "cell_type": "code",
      "metadata": {
        "id": "i5-yknhc9etV"
      },
      "source": [
        "reduced_data = data[['NIHSS on admission.1', 'NIHSS after 1 hr']]"
      ],
      "execution_count": null,
      "outputs": []
    },
    {
      "cell_type": "code",
      "metadata": {
        "id": "TlxVVRcO9etV"
      },
      "source": [
        "data_to_predict = reduced_data[reduced_data['NIHSS after 1 hr'].isnull()]"
      ],
      "execution_count": null,
      "outputs": []
    },
    {
      "cell_type": "code",
      "metadata": {
        "id": "eDXuhN-N9etV"
      },
      "source": [
        "data_to_predict.index.to_list()"
      ],
      "execution_count": null,
      "outputs": []
    },
    {
      "cell_type": "code",
      "metadata": {
        "id": "l2HVx1Rd9etV"
      },
      "source": [
        "reduced_data.drop(data_to_predict.index.to_list(), inplace = True)"
      ],
      "execution_count": null,
      "outputs": []
    },
    {
      "cell_type": "markdown",
      "metadata": {
        "id": "AfD12w-g9etV"
      },
      "source": [
        "## Partitioning Data"
      ]
    },
    {
      "cell_type": "code",
      "metadata": {
        "id": "zKayr4KE9etV"
      },
      "source": [
        "x_train = np.array(reduced_data['NIHSS on admission.1'])\n",
        "y_train = np.array(reduced_data['NIHSS after 1 hr'])\n",
        "\n",
        "x_pred = np.array(data_to_predict['NIHSS on admission.1'])"
      ],
      "execution_count": null,
      "outputs": []
    },
    {
      "cell_type": "code",
      "metadata": {
        "id": "oY2VYj_D9etV"
      },
      "source": [
        "x_train = x_train.reshape(-1, 1)"
      ],
      "execution_count": null,
      "outputs": []
    },
    {
      "cell_type": "markdown",
      "metadata": {
        "id": "p_0zeqZL9etV"
      },
      "source": [
        "## Linear Regression"
      ]
    },
    {
      "cell_type": "code",
      "metadata": {
        "id": "GM06d15u9etV"
      },
      "source": [
        "from sklearn.linear_model import LinearRegression"
      ],
      "execution_count": null,
      "outputs": []
    },
    {
      "cell_type": "code",
      "metadata": {
        "id": "rKcXLw3C9etV"
      },
      "source": [
        "lm = LinearRegression()\n",
        "lm.fit(x_train, y_train)"
      ],
      "execution_count": null,
      "outputs": []
    },
    {
      "cell_type": "markdown",
      "metadata": {
        "id": "eWa4khn09etV"
      },
      "source": [
        "## Prediction"
      ]
    },
    {
      "cell_type": "code",
      "metadata": {
        "id": "GAMj2i719etW"
      },
      "source": [
        "data_to_predict"
      ],
      "execution_count": null,
      "outputs": []
    },
    {
      "cell_type": "code",
      "metadata": {
        "id": "3snv2iBo9etW"
      },
      "source": [
        "data_to_predict['Predicted NIHSS after 1 hr'] = lm.predict(np.array(data_to_predict['NIHSS on admission.1']).reshape(-1, 1))\n",
        "data_to_predict"
      ],
      "execution_count": null,
      "outputs": []
    },
    {
      "cell_type": "markdown",
      "metadata": {
        "id": "udkuCLe19etW"
      },
      "source": [
        "## Filling in the values in the original dataset"
      ]
    },
    {
      "cell_type": "code",
      "metadata": {
        "id": "VNXLSK1S9etW"
      },
      "source": [
        "new_data = data.copy()"
      ],
      "execution_count": null,
      "outputs": []
    },
    {
      "cell_type": "code",
      "metadata": {
        "id": "OD72uUkz9etW"
      },
      "source": [
        "lis = data_to_predict.index.to_list()"
      ],
      "execution_count": null,
      "outputs": []
    },
    {
      "cell_type": "code",
      "metadata": {
        "id": "D2w6b_1G9etW"
      },
      "source": [
        "new_data.loc[lis, ['NIHSS on admission.1', 'NIHSS after 1 hr']]"
      ],
      "execution_count": null,
      "outputs": []
    },
    {
      "cell_type": "code",
      "metadata": {
        "id": "k3lgC8AD9etW"
      },
      "source": [
        "for i in lis:\n",
        "    new_data.loc[i, 'NIHSS after 1 hr'] = round(data_to_predict.loc[i, 'Predicted NIHSS after 1 hr'])"
      ],
      "execution_count": null,
      "outputs": []
    },
    {
      "cell_type": "code",
      "metadata": {
        "id": "n7kPrzn89etW"
      },
      "source": [
        "new_data.loc[lis, ['NIHSS on admission.1', 'NIHSS after 1 hr']]"
      ],
      "execution_count": null,
      "outputs": []
    },
    {
      "cell_type": "code",
      "metadata": {
        "id": "Eh3dWKsa9etW"
      },
      "source": [
        "new_data['NIHSS after 1 hr'].isnull().sum()"
      ],
      "execution_count": null,
      "outputs": []
    },
    {
      "cell_type": "markdown",
      "metadata": {
        "id": "Ev03esh19etW"
      },
      "source": [
        "## Saving the new dataset"
      ]
    },
    {
      "cell_type": "code",
      "metadata": {
        "id": "Y3ovkrn39etW"
      },
      "source": [
        "new_data.to_excel('newData.xlsx')"
      ],
      "execution_count": null,
      "outputs": []
    },
    {
      "cell_type": "code",
      "metadata": {
        "id": "6jx0LPDZ9etW"
      },
      "source": [
        ""
      ],
      "execution_count": null,
      "outputs": []
    }
  ]
}