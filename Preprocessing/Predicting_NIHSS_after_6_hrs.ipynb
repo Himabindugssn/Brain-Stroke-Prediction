{
  "nbformat": 4,
  "nbformat_minor": 0,
  "metadata": {
    "kernelspec": {
      "display_name": "Python 3",
      "language": "python",
      "name": "python3"
    },
    "language_info": {
      "codemirror_mode": {
        "name": "ipython",
        "version": 3
      },
      "file_extension": ".py",
      "mimetype": "text/x-python",
      "name": "python",
      "nbconvert_exporter": "python",
      "pygments_lexer": "ipython3",
      "version": "3.6.9"
    },
    "colab": {
      "name": "Predicting NIHSS after 6 hrs.ipynb",
      "provenance": []
    }
  },
  "cells": [
    {
      "cell_type": "code",
      "metadata": {
        "id": "LXsZ2xd5922x"
      },
      "source": [
        "import pandas as pd\n",
        "import numpy as np\n",
        "from sklearn.linear_model import LinearRegression\n",
        "import seaborn as sns"
      ],
      "execution_count": null,
      "outputs": []
    },
    {
      "cell_type": "code",
      "metadata": {
        "id": "NFjiBG6w922x"
      },
      "source": [
        "from google.colab import files\n",
        "files.upload()"
      ],
      "execution_count": null,
      "outputs": []
    },
    {
      "cell_type": "code",
      "metadata": {
        "id": "oaki256m922x"
      },
      "source": [
        "data.head()"
      ],
      "execution_count": null,
      "outputs": []
    },
    {
      "cell_type": "code",
      "metadata": {
        "id": "UKEAz4nH922z"
      },
      "source": [
        "data.info()"
      ],
      "execution_count": null,
      "outputs": []
    },
    {
      "cell_type": "markdown",
      "metadata": {
        "id": "8fx3JFUx922z"
      },
      "source": [
        "## Exploratory Data Analysis"
      ]
    },
    {
      "cell_type": "code",
      "metadata": {
        "id": "u5quo_35922z"
      },
      "source": [
        "sns.jointplot(x='NIHSS on admission.1',y='  NIHSS after 6 hrs',data=data,kind='reg')"
      ],
      "execution_count": null,
      "outputs": []
    },
    {
      "cell_type": "code",
      "metadata": {
        "id": "vo6L6kAx922z"
      },
      "source": [
        "sns.jointplot(x='NIHSS after 1 hr',y='  NIHSS after 6 hrs',data=data,kind='reg')"
      ],
      "execution_count": null,
      "outputs": []
    },
    {
      "cell_type": "code",
      "metadata": {
        "id": "w1gQgfnh9220"
      },
      "source": [
        "reduced_data = data[['NIHSS on admission.1', 'NIHSS after 1 hr', '  NIHSS after 6 hrs']]"
      ],
      "execution_count": null,
      "outputs": []
    },
    {
      "cell_type": "code",
      "metadata": {
        "id": "rhgZscKR9220"
      },
      "source": [
        "data_to_predict = reduced_data[reduced_data['  NIHSS after 6 hrs'].isnull()]"
      ],
      "execution_count": null,
      "outputs": []
    },
    {
      "cell_type": "code",
      "metadata": {
        "id": "Cik9K_A69220"
      },
      "source": [
        "reduced_data.dropna(subset = ['  NIHSS after 6 hrs'], inplace = True)"
      ],
      "execution_count": null,
      "outputs": []
    },
    {
      "cell_type": "markdown",
      "metadata": {
        "id": "6F1PtreQ9220"
      },
      "source": [
        "## Partitioning Data"
      ]
    },
    {
      "cell_type": "code",
      "metadata": {
        "id": "Lff6MAzm9220"
      },
      "source": [
        "x_train = np.array(reduced_data[['NIHSS on admission.1', 'NIHSS after 1 hr']])\n",
        "y_train = np.array(reduced_data['  NIHSS after 6 hrs'])"
      ],
      "execution_count": null,
      "outputs": []
    },
    {
      "cell_type": "markdown",
      "metadata": {
        "id": "JGDaqXQB9220"
      },
      "source": [
        "## Linear Regression"
      ]
    },
    {
      "cell_type": "code",
      "metadata": {
        "id": "j_wUoqBd9220"
      },
      "source": [
        "lm = LinearRegression()\n",
        "lm.fit(x_train, y_train)"
      ],
      "execution_count": null,
      "outputs": []
    },
    {
      "cell_type": "markdown",
      "metadata": {
        "id": "WCLCtPSR9220"
      },
      "source": [
        "## Prediction"
      ]
    },
    {
      "cell_type": "code",
      "metadata": {
        "id": "P4wf9TKA9220"
      },
      "source": [
        "data_to_predict"
      ],
      "execution_count": null,
      "outputs": []
    },
    {
      "cell_type": "code",
      "metadata": {
        "id": "uBHJNGQ_9220"
      },
      "source": [
        "data_to_predict['Predicted NIHSS after 6 hr'] = lm.predict(np.array(data_to_predict[['NIHSS on admission.1', 'NIHSS after 1 hr']]))\n",
        "data_to_predict"
      ],
      "execution_count": null,
      "outputs": []
    },
    {
      "cell_type": "markdown",
      "metadata": {
        "id": "NaepROf49221"
      },
      "source": [
        "## Filling in the values in the original dataset"
      ]
    },
    {
      "cell_type": "code",
      "metadata": {
        "id": "JGI9JEnR9221"
      },
      "source": [
        "new_data = data.copy()"
      ],
      "execution_count": null,
      "outputs": []
    },
    {
      "cell_type": "code",
      "metadata": {
        "id": "ybaOsoYH9221"
      },
      "source": [
        "lis = data_to_predict.index.to_list()"
      ],
      "execution_count": null,
      "outputs": []
    },
    {
      "cell_type": "code",
      "metadata": {
        "id": "eaDbHJZO9221"
      },
      "source": [
        "for i in lis:\n",
        "    new_data.loc[i, '  NIHSS after 6 hrs'] = round(data_to_predict.loc[i, 'Predicted NIHSS after 6 hr'])"
      ],
      "execution_count": null,
      "outputs": []
    },
    {
      "cell_type": "code",
      "metadata": {
        "id": "KnDy10DB9221"
      },
      "source": [
        "new_data.loc[lis, ['NIHSS on admission.1', 'NIHSS after 1 hr', '  NIHSS after 6 hrs']]"
      ],
      "execution_count": null,
      "outputs": []
    },
    {
      "cell_type": "code",
      "metadata": {
        "id": "QOGpGlsX9221"
      },
      "source": [
        "new_data['  NIHSS after 6 hrs'].isnull().sum()"
      ],
      "execution_count": null,
      "outputs": []
    },
    {
      "cell_type": "code",
      "metadata": {
        "id": "_CdL2oT-9221"
      },
      "source": [
        "new_data.info()"
      ],
      "execution_count": null,
      "outputs": []
    },
    {
      "cell_type": "markdown",
      "metadata": {
        "id": "bqD4njAu9221"
      },
      "source": [
        "## Saving the new Dataset"
      ]
    },
    {
      "cell_type": "code",
      "metadata": {
        "id": "5uAKMYsd9221"
      },
      "source": [
        "new_data.to_excel('final_predicted_data.xlsx')"
      ],
      "execution_count": null,
      "outputs": []
    },
    {
      "cell_type": "code",
      "metadata": {
        "id": "5UU2rb_G9221"
      },
      "source": [
        ""
      ],
      "execution_count": null,
      "outputs": []
    }
  ]
}